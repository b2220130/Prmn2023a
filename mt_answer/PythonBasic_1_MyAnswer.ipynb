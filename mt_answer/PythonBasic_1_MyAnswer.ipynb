{
  "nbformat": 4,
  "nbformat_minor": 0,
  "metadata": {
    "colab": {
      "provenance": [],
      "include_colab_link": true
    },
    "kernelspec": {
      "name": "python3",
      "display_name": "Python 3"
    },
    "language_info": {
      "name": "python"
    }
  },
  "cells": [
    {
      "cell_type": "markdown",
      "metadata": {
        "id": "view-in-github",
        "colab_type": "text"
      },
      "source": [
        "<a href=\"https://colab.research.google.com/github/b2220130/Prmn2023a/blob/main/mt_answer/PythonBasic_1_MyAnswer.ipynb\" target=\"_parent\"><img src=\"https://colab.research.google.com/assets/colab-badge.svg\" alt=\"Open In Colab\"/></a>"
      ]
    },
    {
      "cell_type": "markdown",
      "source": [
        "# 第1章 課題"
      ],
      "metadata": {
        "id": "kWc75ZFVvner"
      }
    },
    {
      "cell_type": "markdown",
      "source": [
        "## 課題1"
      ],
      "metadata": {
        "id": "bruivG-4v2Cc"
      }
    },
    {
      "cell_type": "markdown",
      "source": [
        "print関数を使って自分の情報を表示させる\n",
        "\n",
        "＜実行例＞ `b1998040 Chitose Taro`\n",
        "\n"
      ],
      "metadata": {
        "id": "OJ1NflXMv3mo"
      }
    },
    {
      "cell_type": "code",
      "execution_count": 1,
      "metadata": {
        "id": "e-ns59REvalm",
        "colab": {
          "base_uri": "https://localhost:8080/"
        },
        "outputId": "e67ab2b1-f479-4d12-9740-0e84c3f19fff"
      },
      "outputs": [
        {
          "output_type": "stream",
          "name": "stdout",
          "text": [
            "b2220130 Abe Tomonobu\n"
          ]
        }
      ],
      "source": [
        "# 入力用\n",
        "print('b2220130 Abe Tomonobu')"
      ]
    },
    {
      "cell_type": "markdown",
      "source": [
        "## 課題2"
      ],
      "metadata": {
        "id": "Y-1UjAcTwPkf"
      }
    },
    {
      "cell_type": "markdown",
      "source": [
        "int型変数`student_number`に学籍番号の数値の部分を代入し、  \n",
        "自分の情報を表示させる\n",
        "\n",
        "＜実行例＞ `b1998040 Chitose Taro`\n",
        "\n",
        "＜hint＞ 3通りあるはずです。"
      ],
      "metadata": {
        "id": "HvO1SGM4wRPg"
      }
    },
    {
      "cell_type": "code",
      "source": [
        "# 入力用\n",
        "student_number=2220130\n",
        "print('b'+str(student_number)+' Abe Tomonobu')\n",
        "print('b{} Abe Tomonobu'.format(student_number))\n",
        "print(f'b{student_number} Abe Tomonobu')"
      ],
      "metadata": {
        "id": "kXTNAYHLw1Mh",
        "colab": {
          "base_uri": "https://localhost:8080/"
        },
        "outputId": "269a9874-0daa-4228-99e0-e6992dedfc9f"
      },
      "execution_count": 3,
      "outputs": [
        {
          "output_type": "stream",
          "name": "stdout",
          "text": [
            "b2220130 Abe Tomonobu\n",
            "b2220130 Abe Tomonobu\n",
            "b2220130 Abe Tomonobu\n"
          ]
        }
      ]
    },
    {
      "cell_type": "markdown",
      "source": [
        "## 課題3"
      ],
      "metadata": {
        "id": "9Tl25UnMw-Fd"
      }
    },
    {
      "cell_type": "markdown",
      "source": [
        "10から2800まで、10飛ばしの数を乱数で生成し、  \n",
        "2220000に足して、名前とともに表示させる\n",
        "\n",
        "＜実行例＞ `b2220010 Chitose Taro`"
      ],
      "metadata": {
        "id": "2WPpYUOLw_5H"
      }
    },
    {
      "cell_type": "code",
      "source": [
        "# 入力用\n",
        "import random\n",
        "student_number=2220000+random.randint(1,280)*10\n",
        "print(f'b{student_number} Abe Tomonobu')"
      ],
      "metadata": {
        "id": "8hxJMAqQ7uQy",
        "colab": {
          "base_uri": "https://localhost:8080/"
        },
        "outputId": "5e3dc169-8aef-4b30-aa27-c22443c5f77d"
      },
      "execution_count": 6,
      "outputs": [
        {
          "output_type": "stream",
          "name": "stdout",
          "text": [
            "b2222530 Abe Tomonobu\n"
          ]
        }
      ]
    }
  ]
}