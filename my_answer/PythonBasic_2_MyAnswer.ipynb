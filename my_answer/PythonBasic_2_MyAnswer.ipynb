{
  "nbformat": 4,
  "nbformat_minor": 0,
  "metadata": {
    "colab": {
      "provenance": [],
      "include_colab_link": true
    },
    "kernelspec": {
      "name": "python3",
      "display_name": "Python 3"
    },
    "language_info": {
      "name": "python"
    }
  },
  "cells": [
    {
      "cell_type": "markdown",
      "metadata": {
        "id": "view-in-github",
        "colab_type": "text"
      },
      "source": [
        "<a href=\"https://colab.research.google.com/github/b2220130/Prmn2023a/blob/main/my_answer/PythonBasic_2_MyAnswer.ipynb\" target=\"_parent\"><img src=\"https://colab.research.google.com/assets/colab-badge.svg\" alt=\"Open In Colab\"/></a>"
      ]
    },
    {
      "cell_type": "markdown",
      "source": [
        "# 第2章 課題"
      ],
      "metadata": {
        "id": "C44SsXDACtHu"
      }
    },
    {
      "cell_type": "markdown",
      "source": [
        "## 課題1"
      ],
      "metadata": {
        "id": "OnkezWHRCwr9"
      }
    },
    {
      "cell_type": "markdown",
      "source": [
        "for文を使って、以下のように出力してください"
      ],
      "metadata": {
        "id": "q32rK-cECzCl"
      }
    },
    {
      "cell_type": "markdown",
      "source": [
        "![oSFeQoX.png](https://i.imgur.com/oSFeQoX.png)"
      ],
      "metadata": {
        "id": "FxMcxznVB6cI"
      }
    },
    {
      "cell_type": "code",
      "source": [
        "# 入力用\n",
        "for i in range(4):\n",
        "  for j in range(3-i):\n",
        "    print(' ',end='')\n",
        "  for k in range(2*i+1):\n",
        "    print('*',end='')\n",
        "  print()"
      ],
      "metadata": {
        "id": "iBFSsrdRC5Zt",
        "outputId": "f76733ff-2c55-4728-ed72-6ca8cd2cb1df",
        "colab": {
          "base_uri": "https://localhost:8080/"
        }
      },
      "execution_count": 17,
      "outputs": [
        {
          "output_type": "stream",
          "name": "stdout",
          "text": [
            "   *\n",
            "  ***\n",
            " *****\n",
            "*******\n"
          ]
        }
      ]
    },
    {
      "cell_type": "markdown",
      "source": [
        "## 課題2"
      ],
      "metadata": {
        "id": "gIn-UqGTCagu"
      }
    },
    {
      "cell_type": "markdown",
      "source": [
        "課題1の場合を`n=4`として、nを自分で設定して出力できるようにしてください"
      ],
      "metadata": {
        "id": "ltdiEdqYDFy8"
      }
    },
    {
      "cell_type": "markdown",
      "source": [
        "＜例＞ n=5の場合  \n",
        "![o5NjugQ.png](https://imgur.com/o5NjugQ.png)"
      ],
      "metadata": {
        "id": "hw0FM8BRDHz1"
      }
    },
    {
      "cell_type": "code",
      "source": [
        "# 入力用\n",
        "n=int(input())\n",
        "\n",
        "for i in range(n):\n",
        "  for j in range(n-1-i):\n",
        "    print(' ',end='')\n",
        "  for k in range(2*i+1):\n",
        "    print('*',end='')\n",
        "  print()"
      ],
      "metadata": {
        "id": "upd76Tv-FrIB",
        "outputId": "97f6ab9a-f2ca-4579-aefa-5150b07932f9",
        "colab": {
          "base_uri": "https://localhost:8080/"
        }
      },
      "execution_count": 19,
      "outputs": [
        {
          "output_type": "stream",
          "name": "stdout",
          "text": [
            "3\n",
            "  *\n",
            " ***\n",
            "*****\n"
          ]
        }
      ]
    },
    {
      "cell_type": "markdown",
      "source": [
        "## 課題3"
      ],
      "metadata": {
        "id": "tLMJvwBDE7wT"
      }
    },
    {
      "cell_type": "markdown",
      "source": [
        "for文を使って、以下のように出力してください"
      ],
      "metadata": {
        "id": "vZNvWsG7E99q"
      }
    },
    {
      "cell_type": "markdown",
      "source": [
        "![oSirXec.png](https://imgur.com/oSirXec.png)"
      ],
      "metadata": {
        "id": "ijOV-ilXGDNR"
      }
    },
    {
      "cell_type": "code",
      "source": [
        "# 入力用\n",
        "for i in range(4):\n",
        "  for j in range(3-i):\n",
        "    print(' ',end='')\n",
        "  for k in range(2*i+1):\n",
        "    print('*',end='')\n",
        "  print()\n",
        "for i in range(3):\n",
        "  for j in range(i+1):\n",
        "    print(' ',end='')\n",
        "  for k in range(5-2*i):\n",
        "    print('*',end='')\n",
        "  print()"
      ],
      "metadata": {
        "id": "Q5Ob9uZpGIE3",
        "outputId": "e68cdb3a-2ed5-4234-93cd-2c1f2dfa418a",
        "colab": {
          "base_uri": "https://localhost:8080/"
        }
      },
      "execution_count": 20,
      "outputs": [
        {
          "output_type": "stream",
          "name": "stdout",
          "text": [
            "   *\n",
            "  ***\n",
            " *****\n",
            "*******\n",
            " *****\n",
            "  ***\n",
            "   *\n"
          ]
        }
      ]
    },
    {
      "cell_type": "markdown",
      "source": [
        "## 課題4"
      ],
      "metadata": {
        "id": "Oh7whOPkGQ3I"
      }
    },
    {
      "cell_type": "markdown",
      "source": [
        "課題3の場合を`n=4`として、nを自分で設定して出力できるようにしてください"
      ],
      "metadata": {
        "id": "PnvT8MQbGS03"
      }
    },
    {
      "cell_type": "markdown",
      "source": [
        "＜例＞ n=5の場合  \n",
        "\n",
        "![my4J17V.png](https://i.imgur.com/my4J17V.png)"
      ],
      "metadata": {
        "id": "ZujkAbVMGzhn"
      }
    },
    {
      "cell_type": "code",
      "source": [
        "# 入力用\n",
        "n=int(input())\n",
        "\n",
        "for i in range(n):\n",
        "  for j in range(n-1-i):\n",
        "    print(' ',end='')\n",
        "  for k in range(2*i+1):\n",
        "    print('*',end='')\n",
        "  print()\n",
        "for i in range(n-1):\n",
        "  for j in range(i+1):\n",
        "    print(' ',end='')\n",
        "  for k in range(2*n-2*i-3):\n",
        "    print('*',end='')\n",
        "  print()"
      ],
      "metadata": {
        "id": "hCFNQ7mWG99u",
        "outputId": "9e17996a-ce78-4fba-ceff-10b7de18a64b",
        "colab": {
          "base_uri": "https://localhost:8080/"
        }
      },
      "execution_count": 22,
      "outputs": [
        {
          "output_type": "stream",
          "name": "stdout",
          "text": [
            "3\n",
            "  *\n",
            " ***\n",
            "*****\n",
            " ***\n",
            "  *\n"
          ]
        }
      ]
    },
    {
      "cell_type": "markdown",
      "source": [
        "## 課題5"
      ],
      "metadata": {
        "id": "R2MvOK4wHJlK"
      }
    },
    {
      "cell_type": "markdown",
      "source": [
        "for文を使って、以下のように出力してください"
      ],
      "metadata": {
        "id": "ddMIUoaKHcwd"
      }
    },
    {
      "cell_type": "markdown",
      "source": [
        "![vDUi5eM.png](https://imgur.com/vDUi5eM.png)"
      ],
      "metadata": {
        "id": "CD1cVUlWHLVO"
      }
    },
    {
      "cell_type": "code",
      "source": [
        "# 入力用\n",
        "for i in range(3):\n",
        "  for j in range(3-i):\n",
        "    print(' ',end='')\n",
        "  for k in range(2*i+1):\n",
        "    print('*',end='')\n",
        "  for j in range(5-2*i):\n",
        "    print(' ',end='')\n",
        "  for k in range(2*i+1):\n",
        "    print('*',end='')\n",
        "  print()\n",
        "for k in range(13):\n",
        "  print('*',end='')\n",
        "print()\n",
        "for i in range(3):\n",
        "  for j in range(i+1):\n",
        "    print(' ',end='')\n",
        "  for k in range(5-2*i):\n",
        "    print('*',end='')\n",
        "  for j in range(2*i+1):\n",
        "    print(' ',end='')\n",
        "  for k in range(5-2*i):\n",
        "    print('*',end='')\n",
        "  print()"
      ],
      "metadata": {
        "id": "1pDkfJpUHd93",
        "outputId": "42f3af1c-343f-44bd-aaeb-4b74adb38930",
        "colab": {
          "base_uri": "https://localhost:8080/"
        }
      },
      "execution_count": 23,
      "outputs": [
        {
          "output_type": "stream",
          "name": "stdout",
          "text": [
            "   *     *\n",
            "  ***   ***\n",
            " ***** *****\n",
            "*************\n",
            " ***** *****\n",
            "  ***   ***\n",
            "   *     *\n"
          ]
        }
      ]
    },
    {
      "cell_type": "markdown",
      "source": [
        "## 課題6"
      ],
      "metadata": {
        "id": "oubbafOBHerl"
      }
    },
    {
      "cell_type": "markdown",
      "source": [
        "課題5の場合を`n=4`として、nを自分で設定して出力できるようにしてください"
      ],
      "metadata": {
        "id": "7SzgFdC-HzG9"
      }
    },
    {
      "cell_type": "markdown",
      "source": [
        "＜例＞ n=5の場合  \n",
        "\n",
        "![udkVlYG.png](https://imgur.com/udkVlYG.png)"
      ],
      "metadata": {
        "id": "LY8g9PVPH2OW"
      }
    },
    {
      "cell_type": "code",
      "source": [
        "# 入力用\n",
        "n=int(input())\n",
        "\n",
        "for i in range(n-1):\n",
        "  for j in range(n-1-i):\n",
        "    print(' ',end='')\n",
        "  for k in range(2*i+1):\n",
        "    print('*',end='')\n",
        "  for j in range(2*n-2*i-3):\n",
        "    print(' ',end='')\n",
        "  for k in range(2*i+1):\n",
        "    print('*',end='')\n",
        "  print()\n",
        "for k in range(4*n-3):\n",
        "  print('*',end='')\n",
        "print()\n",
        "for i in range(n-1):\n",
        "  for j in range(i+1):\n",
        "    print(' ',end='')\n",
        "  for k in range(2*n-2*i-3):\n",
        "    print('*',end='')\n",
        "  for j in range(2*i+1):\n",
        "    print(' ',end='')\n",
        "  for k in range(2*n-2*i-3):\n",
        "    print('*',end='')\n",
        "  print()"
      ],
      "metadata": {
        "id": "XZOK5ulbH-tu",
        "outputId": "bfb73b03-e033-4f58-bc70-ca682bfb1cfb",
        "colab": {
          "base_uri": "https://localhost:8080/"
        }
      },
      "execution_count": 25,
      "outputs": [
        {
          "output_type": "stream",
          "name": "stdout",
          "text": [
            "3\n",
            "  *   *\n",
            " *** ***\n",
            "*********\n",
            " *** ***\n",
            "  *   *\n"
          ]
        }
      ]
    },
    {
      "cell_type": "markdown",
      "source": [
        "## 課題7"
      ],
      "metadata": {
        "id": "ouqTUmPQIKGF"
      }
    },
    {
      "cell_type": "markdown",
      "source": [
        "for文を使って、以下のように出力してください"
      ],
      "metadata": {
        "id": "WHSxdOHuIMRM"
      }
    },
    {
      "cell_type": "markdown",
      "source": [
        "![IuP0M16.png](https://imgur.com/IuP0M16.png)"
      ],
      "metadata": {
        "id": "-G--WFTkIM8s"
      }
    },
    {
      "cell_type": "code",
      "source": [
        "# 入力用\n",
        "for i in range(3):\n",
        "  for j in range(3-i):\n",
        "    print(' ',end='')\n",
        "  for k in range(2*i+1):\n",
        "    print('*',end='')\n",
        "  for j in range(5-2*i):\n",
        "    print(' ',end='')\n",
        "  for k in range(2*i+1):\n",
        "    print('*',end='')\n",
        "  print()\n",
        "for k in range(13):\n",
        "  print('*',end='')\n",
        "print()\n",
        "for i in range(3):\n",
        "  for j in range(i+1):\n",
        "    print(' ',end='')\n",
        "  for k in range(5-2*i):\n",
        "    print('*',end='')\n",
        "  for j in range(2*i+1):\n",
        "    print(' ',end='')\n",
        "  for k in range(5-2*i):\n",
        "    print('*',end='')\n",
        "  print()\n",
        "\n",
        "for i in range(2):\n",
        "  for j in range(2-i):\n",
        "    print(' ',end='')\n",
        "  for k in range(2*i+3):\n",
        "    print('*',end='')\n",
        "  for j in range(3-2*i):\n",
        "    print(' ',end='')\n",
        "  for k in range(2*i+3):\n",
        "    print('*',end='')\n",
        "  print()\n",
        "for k in range(13):\n",
        "  print('*',end='')\n",
        "print()\n",
        "for i in range(3):\n",
        "  for j in range(i+1):\n",
        "    print(' ',end='')\n",
        "  for k in range(5-2*i):\n",
        "    print('*',end='')\n",
        "  for j in range(2*i+1):\n",
        "    print(' ',end='')\n",
        "  for k in range(5-2*i):\n",
        "    print('*',end='')\n",
        "  print()"
      ],
      "metadata": {
        "id": "BVXjDteuIijL",
        "outputId": "40fa2b08-be8f-49e7-f339-cd3b9db0ad65",
        "colab": {
          "base_uri": "https://localhost:8080/"
        }
      },
      "execution_count": 26,
      "outputs": [
        {
          "output_type": "stream",
          "name": "stdout",
          "text": [
            "   *     *\n",
            "  ***   ***\n",
            " ***** *****\n",
            "*************\n",
            " ***** *****\n",
            "  ***   ***\n",
            "   *     *\n",
            "  ***   ***\n",
            " ***** *****\n",
            "*************\n",
            " ***** *****\n",
            "  ***   ***\n",
            "   *     *\n"
          ]
        }
      ]
    },
    {
      "cell_type": "markdown",
      "source": [
        "## 課題8"
      ],
      "metadata": {
        "id": "31u0ExX2IjWj"
      }
    },
    {
      "cell_type": "markdown",
      "source": [
        "課題7の場合を`n=4`として、nを自分で設定して出力できるようにしてください"
      ],
      "metadata": {
        "id": "zeOvmKarInpz"
      }
    },
    {
      "cell_type": "markdown",
      "source": [
        "＜例＞ n=5の場合  \n",
        "\n",
        "![AlTnu1k.png](https://imgur.com/AlTnu1k.png)"
      ],
      "metadata": {
        "id": "2uLR5sbKIov2"
      }
    },
    {
      "cell_type": "code",
      "source": [
        "# 入力用\n",
        "n=int(input())\n",
        "\n",
        "for i in range(n-1):\n",
        "  for j in range(n-1-i):\n",
        "    print(' ',end='')\n",
        "  for k in range(2*i+1):\n",
        "    print('*',end='')\n",
        "  for j in range(2*n-2*i-3):\n",
        "    print(' ',end='')\n",
        "  for k in range(2*i+1):\n",
        "    print('*',end='')\n",
        "  print()\n",
        "for k in range(4*n-3):\n",
        "  print('*',end='')\n",
        "print()\n",
        "for i in range(n-1):\n",
        "  for j in range(i+1):\n",
        "    print(' ',end='')\n",
        "  for k in range(2*n-2*i-3):\n",
        "    print('*',end='')\n",
        "  for j in range(2*i+1):\n",
        "    print(' ',end='')\n",
        "  for k in range(2*n-2*i-3):\n",
        "    print('*',end='')\n",
        "  print()\n",
        "\n",
        "for i in range(n-2):\n",
        "  for j in range(n-2-i):\n",
        "    print(' ',end='')\n",
        "  for k in range(2*i+3):\n",
        "    print('*',end='')\n",
        "  for j in range(2*n-2*i-5):\n",
        "    print(' ',end='')\n",
        "  for k in range(2*i+3):\n",
        "    print('*',end='')\n",
        "  print()\n",
        "for k in range(4*n-3):\n",
        "  print('*',end='')\n",
        "print()\n",
        "for i in range(n-1):\n",
        "  for j in range(i+1):\n",
        "    print(' ',end='')\n",
        "  for k in range(2*n-2*i-3):\n",
        "    print('*',end='')\n",
        "  for j in range(2*i+1):\n",
        "    print(' ',end='')\n",
        "  for k in range(2*n-2*i-3):\n",
        "    print('*',end='')\n",
        "  print()"
      ],
      "metadata": {
        "id": "TXJaIVbYI_Cd",
        "outputId": "4e5055f5-dc5d-4baf-83b6-6c96c3781ebd",
        "colab": {
          "base_uri": "https://localhost:8080/"
        }
      },
      "execution_count": 28,
      "outputs": [
        {
          "output_type": "stream",
          "name": "stdout",
          "text": [
            "3\n",
            "  *   *\n",
            " *** ***\n",
            "*********\n",
            " *** ***\n",
            "  *   *\n",
            " *** ***\n",
            "*********\n",
            " *** ***\n",
            "  *   *\n"
          ]
        }
      ]
    }
  ]
}